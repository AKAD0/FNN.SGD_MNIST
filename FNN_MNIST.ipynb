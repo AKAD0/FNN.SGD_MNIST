{
 "cells": [
  {
   "cell_type": "code",
   "execution_count": 1,
   "metadata": {},
   "outputs": [],
   "source": [
    "import numpy as np"
   ]
  },
  {
   "cell_type": "code",
   "execution_count": null,
   "metadata": {},
   "outputs": [],
   "source": [
    "# Network model\n",
    "def MSE(y,a):\n",
    "    MSE = (1/10)*( np.sum( np.power( (y-a),2)))\n",
    "    return MSE\n",
    "\n",
    "def a_y(z):\n",
    "    a_y = np.divide( np.exp(z), np.sum( np.exp(z)))\n",
    "    return a_y\n",
    "\n",
    "def z_y(w_y,a_2,b_y):\n",
    "    w_y = np.transpose( w_y)\n",
    "    b_y = np.transpose( b_y)\n",
    "    z_y = np.add( np.sum(np.multiply(w_y,a_2),axis=1), b_y)\n",
    "    return z_y\n",
    "\n",
    "def a_2_nonvect(z_2):\n",
    "    if z_2<0:\n",
    "        z_2=0\n",
    "    return z_2\n",
    "a_2 = np.vectorize( a_2_nonvect)\n",
    "\n",
    "def z_2(w_2,a_1,b_2):\n",
    "    w_2 = np.transpose( w_2)\n",
    "    b_2 = np.transpose( b_2)\n",
    "    z_2 = np.add( np.sum(np.multiply(w_2,a_1),axis=1), b_2)\n",
    "    return z_2\n",
    "\n",
    "def a_1_nonvect(z_1):\n",
    "    if z_1<0:\n",
    "        z_1=0\n",
    "    return z_1\n",
    "a_1 = np.vectorize( a_1_nonvect)\n",
    "\n",
    "def z_1(w_1,x,b_1):\n",
    "    w_1 = np.transpose( w_1)\n",
    "    b_1 = np.transpose( b_1)\n",
    "    z_1 = np.add( np.sum(np.multiply(w_1,x),axis=1), b_1)\n",
    "    return z_1\n",
    "\n",
    "# Stochastic gradiend descend\n"
   ]
  }
 ],
 "metadata": {
  "kernelspec": {
   "display_name": "Python 3",
   "language": "python",
   "name": "python3"
  },
  "language_info": {
   "codemirror_mode": {
    "name": "ipython",
    "version": 3
   },
   "file_extension": ".py",
   "mimetype": "text/x-python",
   "name": "python",
   "nbconvert_exporter": "python",
   "pygments_lexer": "ipython3",
   "version": "3.11.5"
  }
 },
 "nbformat": 4,
 "nbformat_minor": 2
}
