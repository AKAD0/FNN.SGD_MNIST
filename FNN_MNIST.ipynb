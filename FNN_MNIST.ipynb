{
 "cells": [
  {
   "cell_type": "code",
   "execution_count": 1,
   "metadata": {},
   "outputs": [],
   "source": [
    "import numpy as np"
   ]
  },
  {
   "cell_type": "code",
   "execution_count": 108,
   "metadata": {},
   "outputs": [],
   "source": [
    "# Network model\n",
    "def MSE(y,a):\n",
    "    MSE = (1/10)*( np.sum( np.power( (y-a),2)))\n",
    "    return MSE\n",
    "\n",
    "def a_y(z):\n",
    "    a_y = np.divide( np.exp(z), np.sum( np.exp(z)))\n",
    "    return a_y\n",
    "\n",
    "def z_y(w_y,a_2,b_y):\n",
    "    w_y = np.transpose( w_y)\n",
    "    b_y = np.transpose( b_y)\n",
    "    z_y = np.add( np.sum(np.multiply(w_y,a_2),axis=1), b_y)\n",
    "    return z_y\n",
    "\n",
    "def a_2_nonvect(z_2):\n",
    "    if z_2<0:\n",
    "        z_2=0\n",
    "    return z_2\n",
    "a_2 = np.vectorize( a_2_nonvect)\n",
    "\n",
    "def z_2(w_2,a_1,b_2):\n",
    "    w_2 = np.transpose( w_2)\n",
    "    b_2 = np.transpose( b_2)\n",
    "    z_2 = np.add( np.sum(np.multiply(w_2,a_1),axis=1), b_2)\n",
    "    return z_2\n",
    "\n",
    "def a_1_nonvect(z_1):\n",
    "    if z_1<0:\n",
    "        z_1=0\n",
    "    return z_1\n",
    "a_1 = np.vectorize( a_1_nonvect)\n",
    "\n",
    "def z_1(w_1,x,b_1):\n",
    "    w_1 = np.transpose( w_1)\n",
    "    b_1 = np.transpose( b_1)\n",
    "    z_1 = np.add( np.sum(np.multiply(w_1,x),axis=1), b_1)\n",
    "    return z_1\n",
    "\n",
    "# Gradient descend\n",
    "def indicator_nonvect(z):\n",
    "    if z>0:\n",
    "        z=1\n",
    "    else:\n",
    "        z=0\n",
    "    return z\n",
    "indicator = np.vectorize( indicator_nonvect)\n",
    "\n",
    "# Back prop for a single sample\n",
    "def single_back_prop(x, y, a_1, a_2, z_1, z_2, w_2, w_y, a_y):\n",
    "    DZ = np.array([[]])\n",
    "    for i in range(a_y.shape[0]):\n",
    "        DZ = np.append(DZ, np.sum( a_y*a_y[i]) - (a_y[i]*a_y[0])[0] + (a_y[i]*( 1-a_y[i]))[0])\n",
    "\n",
    "    S_1 = np.multiply( ((-(y-a_y))/5), DZ)\n",
    "    S_2 = np.multiply( np.multiply(S_1, w_y), indicator(z_2))\n",
    "    S_3 = np.multiply( np.multiply( np.multiply( S_1,S_2), w_2), indicator(z_1))\n",
    "\n",
    "    sgrad_w_y = np.multiply( S_1, a_2)\n",
    "    sgrad_b_y = S_1\n",
    "    sgrad_w_2 = np.multiply( np.multiply( S_1, S_2), a_1)\n",
    "    sgrad_b_2 = np.multiply( S_1, S_2)\n",
    "    sgrad_w_1 = np.multiply( np.multiply( np.multiply( S_1, S_2), S3), x)\n",
    "    sgrad_b_1 = np.multiply( np.multiply( S_1, S_2), S3)\n",
    "    return( sgrad_w_y, sgrad_b_y, sgrad_w_2, sgrad_b_2, sgrad_w_1, sgrad_b_1)\n",
    "\n",
    "# Averaged back prop for a batch of samples\n",
    "def batch_back_prop(batch):\n",
    "    return( bgrad_w_y, bgrad_b_y, bgrad_w_2, bgrad_b_2, bgrad_w_1, bgrad_b_1)\n",
    "\n",
    "# Optimization with a given batch\n",
    "def stochastic_grad_descend( epsilon, bgrad_w_y, bgrad_b_y, bgrad_w_2, bgrad_b_2, bgrad_w_1, bgrad_b_1):\n",
    "    w_y = np.subtract( w_y, np.multiply(epsilon, bgrad_w_y))\n",
    "    b_y = np.subtract( b_y, np.multiply(epsilon, bgrad_b_y))\n",
    "    w_2 = np.subtract( w_2, np.multiply(epsilon, bgrad_w_2))\n",
    "    b_2 = np.subtract( b_2, np.multiply(epsilon, bgrad_b_2))\n",
    "    w_1 = np.subtract( w_1, np.multiply(epsilon, bgrad_w_1))\n",
    "    b_1 = np.subtract( b_1, np.multiply(epsilon, bgrad_b_1))\n",
    "    return( w_y, b_y, w_2, b_2, w_1, b_1)"
   ]
  },
  {
   "cell_type": "code",
   "execution_count": 114,
   "metadata": {},
   "outputs": [
    {
     "name": "stderr",
     "output_type": "stream",
     "text": [
      "c:\\Program Files\\Python\\Lib\\site-packages\\sklearn\\datasets\\_openml.py:1022: FutureWarning: The default value of `parser` will change from `'liac-arff'` to `'auto'` in 1.4. You can set `parser='auto'` to silence this warning. Therefore, an `ImportError` will be raised from 1.4 if the dataset is dense and pandas is not installed. Note that the pandas parser may return different data types. See the Notes Section in fetch_openml's API doc for details.\n",
      "  warn(\n"
     ]
    }
   ],
   "source": [
    "from sklearn.datasets import fetch_openml\n",
    "mnist = fetch_openml('mnist_784')"
   ]
  },
  {
   "cell_type": "code",
   "execution_count": 128,
   "metadata": {},
   "outputs": [],
   "source": [
    "from sklearn.model_selection import train_test_split\n",
    "import pandas as pd\n",
    "\n",
    "X = mnist.data.to_numpy()\n",
    "y = mnist.target.to_numpy()\n",
    "X_train, X_test, y_train, y_test = train_test_split(X, y, stratify=y, random_state=42)"
   ]
  }
 ],
 "metadata": {
  "kernelspec": {
   "display_name": "Python 3",
   "language": "python",
   "name": "python3"
  },
  "language_info": {
   "codemirror_mode": {
    "name": "ipython",
    "version": 3
   },
   "file_extension": ".py",
   "mimetype": "text/x-python",
   "name": "python",
   "nbconvert_exporter": "python",
   "pygments_lexer": "ipython3",
   "version": "3.11.5"
  }
 },
 "nbformat": 4,
 "nbformat_minor": 2
}
