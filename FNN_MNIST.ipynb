{
 "cells": [
  {
   "cell_type": "code",
   "execution_count": 1,
   "metadata": {},
   "outputs": [],
   "source": [
    "import numpy as np"
   ]
  },
  {
   "cell_type": "code",
   "execution_count": null,
   "metadata": {},
   "outputs": [],
   "source": [
    "# Network model\n",
    "def MSE(y,a):\n",
    "    MSE = (1/10)*( np.sum( np.power( (y-a),2)))\n",
    "    return MSE\n",
    "\n",
    "def a_y(z):\n",
    "    a_y = np.divide( np.exp(z), np.sum( np.exp(z)))\n",
    "    return a_y\n",
    "\n",
    "def z_y(w_y,a_2,b_y):\n",
    "    w_y = np.transpose( w_y)\n",
    "    b_y = np.transpose( b_y)\n",
    "    z_y = np.add( np.sum(np.multiply(w_y,a_2),axis=1), b_y)\n",
    "    return z_y\n",
    "\n",
    "def a_2_nonvect(z_2):\n",
    "    if z_2<0:\n",
    "        z_2=0\n",
    "    return z_2\n",
    "a_2 = np.vectorize( a_2_nonvect)\n",
    "\n",
    "def z_2(w_2,a_1,b_2):\n",
    "    w_2 = np.transpose( w_2)\n",
    "    b_2 = np.transpose( b_2)\n",
    "    z_2 = np.add( np.sum(np.multiply(w_2,a_1),axis=1), b_2)\n",
    "    return z_2\n",
    "\n",
    "def a_1_nonvect(z_1):\n",
    "    if z_1<0:\n",
    "        z_1=0\n",
    "    return z_1\n",
    "a_1 = np.vectorize( a_1_nonvect)\n",
    "\n",
    "def z_1(w_1,x,b_1):\n",
    "    w_1 = np.transpose( w_1)\n",
    "    b_1 = np.transpose( b_1)\n",
    "    z_1 = np.add( np.sum(np.multiply(w_1,x),axis=1), b_1)\n",
    "    return z_1\n",
    "\n",
    "# Gradient descend\n",
    "def indicator_nonvect(z):\n",
    "    if z>0:\n",
    "        z=1\n",
    "    else:\n",
    "        z=0\n",
    "    return z\n",
    "indicator = np.vectorize( indicator_nonvect)\n",
    "\n",
    "def back_prop(z_1, w_2, z_2, w_y, a_y, y):\n",
    "    DZ = np.array([[]])\n",
    "    for i in range(a_y.shape[0]):\n",
    "        DZ = np.append(DZ, np.sum( a_y*a_y[i]) - (a_y[i]*a_y[0])[0] + (a_y[i]*( 1-a_y[i]))[0])\n",
    "\n",
    "    S_1 = np.multiply( ((-(y-a_y))/5), DZ)\n",
    "    S_2 = np.multiply( np.multiply(S_1, w_y), indicator(z_2))\n",
    "    S_3 = np.multiply( np.multiply( np.multiply( S_1,S_2), w_2), indicator(z_1))\n",
    "\n",
    "    grad_w_y = np.multiply( S_1, a_2)\n",
    "    grad_b_y = S_1\n",
    "    grad_w_2 = np.multiply( np.multiply( S_1, S_2), a_1)\n",
    "    grad_b_2 = np.multiply( S_1, S_2)\n",
    "    grad_w_1 = np.multiply( np.multiply( np.multiply( S_1, S_2), S3), x)\n",
    "    grad_b_1 = np.multiply( np.multiply( S_1, S_2), S3)\n",
    "    return( grad_w_y, grad_b_y, grad_w_2, grad_b_2, grad_w_1, grad_b_1)\n",
    "\n",
    "def grad_descend( epsilon, grad_w_y, grad_b_y, grad_w_2, grad_b_2, grad_w_1, grad_b_1):\n",
    "    w_y = np.subtract( w_y, np.multiply(epsilon, grad_w_y))\n",
    "    b_y = np.subtract( b_y, np.multiply(epsilon, grad_b_y))\n",
    "    w_2 = np.subtract( w_2, np.multiply(epsilon, grad_w_2))\n",
    "    b_2 = np.subtract( b_2, np.multiply(epsilon, grad_b_2))\n",
    "    w_1 = np.subtract( w_1, np.multiply(epsilon, grad_w_1))\n",
    "    b_1 = np.subtract( b_1, np.multiply(epsilon, grad_b_1))\n",
    "    return( w_y, b_y, w_2, b_2, w_1, b_1)"
   ]
  },
  {
   "cell_type": "code",
   "execution_count": 107,
   "metadata": {},
   "outputs": [
    {
     "data": {
      "text/plain": [
       "array([[-10, -14,  -7,  -6,  -5]])"
      ]
     },
     "execution_count": 107,
     "metadata": {},
     "output_type": "execute_result"
    }
   ],
   "source": [
    "a = np.array([[0,-4,3,4,5]])\n",
    "b = np.array([[10,10,10,10,10]])\n",
    "np.subtract(a, b)"
   ]
  },
  {
   "cell_type": "code",
   "execution_count": 105,
   "metadata": {},
   "outputs": [
    {
     "name": "stdout",
     "output_type": "stream",
     "text": [
      "[[1 2 3 4 5]]\n",
      "[[6 7 8 9 0]]\n",
      "[[10 11 12 13 14]]\n"
     ]
    }
   ],
   "source": [
    "def test():\n",
    "    a = np.array([[1,2,3,4,5]])\n",
    "    b = np.array([[6,7,8,9,0]])\n",
    "    c = np.array([[10,11,12,13,14]])\n",
    "    return a,b,c\n",
    "d,e,f = test()\n",
    "print(d)\n",
    "print(e)\n",
    "print(f)"
   ]
  },
  {
   "cell_type": "code",
   "execution_count": null,
   "metadata": {},
   "outputs": [],
   "source": []
  }
 ],
 "metadata": {
  "kernelspec": {
   "display_name": "Python 3",
   "language": "python",
   "name": "python3"
  },
  "language_info": {
   "codemirror_mode": {
    "name": "ipython",
    "version": 3
   },
   "file_extension": ".py",
   "mimetype": "text/x-python",
   "name": "python",
   "nbconvert_exporter": "python",
   "pygments_lexer": "ipython3",
   "version": "3.11.5"
  }
 },
 "nbformat": 4,
 "nbformat_minor": 2
}
